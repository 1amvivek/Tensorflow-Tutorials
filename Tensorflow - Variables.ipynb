{
 "cells": [
  {
   "cell_type": "code",
   "execution_count": 1,
   "metadata": {
    "collapsed": true
   },
   "outputs": [],
   "source": [
    "import tensorflow as tf\n",
    "import numpy as np"
   ]
  },
  {
   "cell_type": "code",
   "execution_count": 2,
   "metadata": {},
   "outputs": [],
   "source": [
    "np.random.seed(1)"
   ]
  },
  {
   "cell_type": "code",
   "execution_count": 7,
   "metadata": {},
   "outputs": [],
   "source": [
    "X = tf.placeholder(tf.float32)\n",
    "y = tf.placeholder(tf.float32)"
   ]
  },
  {
   "cell_type": "code",
   "execution_count": 8,
   "metadata": {},
   "outputs": [],
   "source": [
    "W  = tf.Variable(0.3)\n",
    "b = tf.Variable(-0.3)"
   ]
  },
  {
   "cell_type": "code",
   "execution_count": 19,
   "metadata": {},
   "outputs": [],
   "source": [
    "epochs = 1000\n",
    "learning_rate = 0.1\n",
    "y_ = W * X + b\n",
    "cost = tf.reduce_mean(tf.square(y_ - y))\n",
    "training_step = tf.train.GradientDescentOptimizer(learning_rate).minimize(cost)\n",
    "init = tf.global_variables_initializer()"
   ]
  },
  {
   "cell_type": "code",
   "execution_count": 20,
   "metadata": {},
   "outputs": [
    {
     "name": "stdout",
     "output_type": "stream",
     "text": [
      "Epoch:  0\n",
      "Cost is  0.105985\n",
      "W, b values are  [0.67333335, -0.16000001]\n",
      "Epoch:  100\n",
      "Cost is  0.000750335\n",
      "W, b values are  [0.9681856, -0.92767841]\n",
      "Epoch:  200\n",
      "Cost is  5.77723e-06\n",
      "W, b values are  [0.99720836, -0.99365401]\n",
      "Epoch:  300\n",
      "Cost is  4.44863e-08\n",
      "W, b values are  [0.99975508, -0.99944323]\n",
      "Epoch:  400\n",
      "Cost is  3.41393e-10\n",
      "W, b values are  [0.99997854, -0.99995118]\n",
      "Epoch:  500\n",
      "Cost is  2.83388e-12\n",
      "W, b values are  [0.99999809, -0.99999553]\n",
      "Epoch:  600\n",
      "Cost is  2.80664e-13\n",
      "W, b values are  [0.99999934, -0.99999857]\n",
      "Epoch:  700\n",
      "Cost is  2.80664e-13\n",
      "W, b values are  [0.99999934, -0.99999857]\n",
      "Epoch:  800\n",
      "Cost is  2.80664e-13\n",
      "W, b values are  [0.99999934, -0.99999857]\n",
      "Epoch:  900\n",
      "Cost is  2.80664e-13\n",
      "W, b values are  [0.99999934, -0.99999857]\n"
     ]
    }
   ],
   "source": [
    "with tf.Session() as sess:\n",
    "    sess.run(init)\n",
    "    \n",
    "    for epoch in range(epochs):\n",
    "        sess.run(training_step, feed_dict={X: [1,2,3], y: [0, 1, 2]})\n",
    "        if epoch % 100 == 0:\n",
    "            print \"Epoch: \", epoch\n",
    "            print \"Cost is \", sess.run(cost, feed_dict={X: [1,2,3], y: [0, 1, 2]})\n",
    "            print \"W, b values are \", sess.run([W , b])    "
   ]
  },
  {
   "cell_type": "code",
   "execution_count": null,
   "metadata": {
    "collapsed": true
   },
   "outputs": [],
   "source": []
  }
 ],
 "metadata": {
  "kernelspec": {
   "display_name": "Python 2",
   "language": "python",
   "name": "python2"
  },
  "language_info": {
   "codemirror_mode": {
    "name": "ipython",
    "version": 2
   },
   "file_extension": ".py",
   "mimetype": "text/x-python",
   "name": "python",
   "nbconvert_exporter": "python",
   "pygments_lexer": "ipython2",
   "version": "2.7.13"
  }
 },
 "nbformat": 4,
 "nbformat_minor": 2
}
